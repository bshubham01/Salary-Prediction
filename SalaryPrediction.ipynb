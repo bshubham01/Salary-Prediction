{
  "nbformat": 4,
  "nbformat_minor": 0,
  "metadata": {
    "colab": {
      "provenance": []
    },
    "kernelspec": {
      "name": "python3",
      "display_name": "Python 3"
    },
    "language_info": {
      "name": "python"
    }
  },
  "cells": [
    {
      "cell_type": "code",
      "execution_count": 2,
      "metadata": {
        "id": "JwPqljay_483"
      },
      "outputs": [],
      "source": [
        "#imporint libraries\n",
        "import numpy as np\n",
        "import matplotlib.pyplot as plt\n",
        "import pandas as pd"
      ]
    },
    {
      "cell_type": "code",
      "source": [
        "#Reading dataset and setting features\n",
        "data=pd.read_csv('Salary_Data.csv')\n",
        "x=data.iloc[:, :-1]\n",
        "y=data.iloc[:,-1]"
      ],
      "metadata": {
        "id": "Smhq30VQArRF"
      },
      "execution_count": 5,
      "outputs": []
    },
    {
      "cell_type": "code",
      "source": [
        "#imporint sklearn to split data set into test set and training set\n",
        "from sklearn.model_selection import train_test_split\n",
        "x_train, x_test,y_train,y_test=train_test_split(x,y,test_size=0.2,random_state=0)"
      ],
      "metadata": {
        "id": "N7zZIYZFCWpJ"
      },
      "execution_count": 6,
      "outputs": []
    },
    {
      "cell_type": "code",
      "source": [
        "#training the model\n",
        "from sklearn.linear_model import LinearRegression\n",
        "reg=LinearRegression()\n",
        "reg.fit(x_train,y_train)"
      ],
      "metadata": {
        "id": "ausONY9CE95Y"
      },
      "execution_count": null,
      "outputs": []
    },
    {
      "cell_type": "code",
      "source": [
        "#pridicting the values for input test set\n",
        "reg.predict(x_test)"
      ],
      "metadata": {
        "id": "Kr9SGD_aFRxb"
      },
      "execution_count": null,
      "outputs": []
    },
    {
      "cell_type": "code",
      "source": [
        "#plotting trained data and predicted data of trained set\n",
        "plt.scatter(x_train,y_train,color='red')\n",
        "plt.plot(x_train,reg.predict(x_train),color='blue')\n",
        "plt.show()\n",
        "print(reg.predict([[100]]))"
      ],
      "metadata": {
        "id": "PmtwWC8HLiTO"
      },
      "execution_count": null,
      "outputs": []
    },
    {
      "cell_type": "code",
      "source": [
        "#prediction of test set\n",
        "plt.scatter(x_test,y_test,color='red')\n",
        "plt.plot(x_train,reg.predict(x_train),color='blue')\n",
        "plt.show()\n",
        
        "#prediction of single input\n",
        "print(reg.predict([[9.5]]))"
      ],
      "metadata": {
        "id": "toYqY_p0Mg15"
      },
      "execution_count": null,
      "outputs": []
    }
  ]
}
